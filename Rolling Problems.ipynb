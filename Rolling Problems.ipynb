{
 "cells": [
  {
   "cell_type": "markdown",
   "metadata": {},
   "source": [
    "# Confusing Pandas Rolling\n",
    "Rolling gives different rolling results when used different slicings from same DF."
   ]
  },
  {
   "cell_type": "code",
   "execution_count": 1,
   "metadata": {},
   "outputs": [],
   "source": [
    "import pandas as pd\n",
    "import numpy as np"
   ]
  },
  {
   "cell_type": "markdown",
   "metadata": {},
   "source": [
    "* Generate a DF: df1\n",
    "* Slice a DF from df1: df2"
   ]
  },
  {
   "cell_type": "code",
   "execution_count": 2,
   "metadata": {},
   "outputs": [
    {
     "data": {
      "text/html": [
       "<div>\n",
       "<style scoped>\n",
       "    .dataframe tbody tr th:only-of-type {\n",
       "        vertical-align: middle;\n",
       "    }\n",
       "\n",
       "    .dataframe tbody tr th {\n",
       "        vertical-align: top;\n",
       "    }\n",
       "\n",
       "    .dataframe thead th {\n",
       "        text-align: right;\n",
       "    }\n",
       "</style>\n",
       "<table border=\"1\" class=\"dataframe\">\n",
       "  <thead>\n",
       "    <tr style=\"text-align: right;\">\n",
       "      <th></th>\n",
       "      <th>a</th>\n",
       "      <th>b</th>\n",
       "    </tr>\n",
       "  </thead>\n",
       "  <tbody>\n",
       "    <tr>\n",
       "      <th>100</th>\n",
       "      <td>1.830240</td>\n",
       "      <td>1.150862</td>\n",
       "    </tr>\n",
       "    <tr>\n",
       "      <th>101</th>\n",
       "      <td>-0.048248</td>\n",
       "      <td>-1.592608</td>\n",
       "    </tr>\n",
       "    <tr>\n",
       "      <th>102</th>\n",
       "      <td>-0.614654</td>\n",
       "      <td>0.787705</td>\n",
       "    </tr>\n",
       "    <tr>\n",
       "      <th>103</th>\n",
       "      <td>0.602816</td>\n",
       "      <td>1.737902</td>\n",
       "    </tr>\n",
       "    <tr>\n",
       "      <th>104</th>\n",
       "      <td>-0.467786</td>\n",
       "      <td>-0.859816</td>\n",
       "    </tr>\n",
       "    <tr>\n",
       "      <th>...</th>\n",
       "      <td>...</td>\n",
       "      <td>...</td>\n",
       "    </tr>\n",
       "    <tr>\n",
       "      <th>495</th>\n",
       "      <td>0.766202</td>\n",
       "      <td>-0.562597</td>\n",
       "    </tr>\n",
       "    <tr>\n",
       "      <th>496</th>\n",
       "      <td>0.787944</td>\n",
       "      <td>-0.976230</td>\n",
       "    </tr>\n",
       "    <tr>\n",
       "      <th>497</th>\n",
       "      <td>0.789858</td>\n",
       "      <td>-1.632839</td>\n",
       "    </tr>\n",
       "    <tr>\n",
       "      <th>498</th>\n",
       "      <td>-0.891867</td>\n",
       "      <td>0.125600</td>\n",
       "    </tr>\n",
       "    <tr>\n",
       "      <th>499</th>\n",
       "      <td>0.749565</td>\n",
       "      <td>-0.945087</td>\n",
       "    </tr>\n",
       "  </tbody>\n",
       "</table>\n",
       "<p>400 rows × 2 columns</p>\n",
       "</div>"
      ],
      "text/plain": [
       "            a         b\n",
       "100  1.830240  1.150862\n",
       "101 -0.048248 -1.592608\n",
       "102 -0.614654  0.787705\n",
       "103  0.602816  1.737902\n",
       "104 -0.467786 -0.859816\n",
       "..        ...       ...\n",
       "495  0.766202 -0.562597\n",
       "496  0.787944 -0.976230\n",
       "497  0.789858 -1.632839\n",
       "498 -0.891867  0.125600\n",
       "499  0.749565 -0.945087\n",
       "\n",
       "[400 rows x 2 columns]"
      ]
     },
     "execution_count": 2,
     "metadata": {},
     "output_type": "execute_result"
    }
   ],
   "source": [
    "df1 = pd.DataFrame([np.random.randn(1000),np.random.randn(1000)]).T\n",
    "df1.columns=['a','b']\n",
    "df1.iloc[100:500]"
   ]
  },
  {
   "cell_type": "code",
   "execution_count": 3,
   "metadata": {
    "scrolled": true
   },
   "outputs": [
    {
     "data": {
      "text/html": [
       "<div>\n",
       "<style scoped>\n",
       "    .dataframe tbody tr th:only-of-type {\n",
       "        vertical-align: middle;\n",
       "    }\n",
       "\n",
       "    .dataframe tbody tr th {\n",
       "        vertical-align: top;\n",
       "    }\n",
       "\n",
       "    .dataframe thead th {\n",
       "        text-align: right;\n",
       "    }\n",
       "</style>\n",
       "<table border=\"1\" class=\"dataframe\">\n",
       "  <thead>\n",
       "    <tr style=\"text-align: right;\">\n",
       "      <th></th>\n",
       "      <th>a</th>\n",
       "      <th>b</th>\n",
       "    </tr>\n",
       "  </thead>\n",
       "  <tbody>\n",
       "    <tr>\n",
       "      <th>100</th>\n",
       "      <td>1.830240</td>\n",
       "      <td>1.150862</td>\n",
       "    </tr>\n",
       "    <tr>\n",
       "      <th>101</th>\n",
       "      <td>-0.048248</td>\n",
       "      <td>-1.592608</td>\n",
       "    </tr>\n",
       "    <tr>\n",
       "      <th>102</th>\n",
       "      <td>-0.614654</td>\n",
       "      <td>0.787705</td>\n",
       "    </tr>\n",
       "    <tr>\n",
       "      <th>103</th>\n",
       "      <td>0.602816</td>\n",
       "      <td>1.737902</td>\n",
       "    </tr>\n",
       "    <tr>\n",
       "      <th>104</th>\n",
       "      <td>-0.467786</td>\n",
       "      <td>-0.859816</td>\n",
       "    </tr>\n",
       "    <tr>\n",
       "      <th>...</th>\n",
       "      <td>...</td>\n",
       "      <td>...</td>\n",
       "    </tr>\n",
       "    <tr>\n",
       "      <th>495</th>\n",
       "      <td>0.766202</td>\n",
       "      <td>-0.562597</td>\n",
       "    </tr>\n",
       "    <tr>\n",
       "      <th>496</th>\n",
       "      <td>0.787944</td>\n",
       "      <td>-0.976230</td>\n",
       "    </tr>\n",
       "    <tr>\n",
       "      <th>497</th>\n",
       "      <td>0.789858</td>\n",
       "      <td>-1.632839</td>\n",
       "    </tr>\n",
       "    <tr>\n",
       "      <th>498</th>\n",
       "      <td>-0.891867</td>\n",
       "      <td>0.125600</td>\n",
       "    </tr>\n",
       "    <tr>\n",
       "      <th>499</th>\n",
       "      <td>0.749565</td>\n",
       "      <td>-0.945087</td>\n",
       "    </tr>\n",
       "  </tbody>\n",
       "</table>\n",
       "<p>400 rows × 2 columns</p>\n",
       "</div>"
      ],
      "text/plain": [
       "            a         b\n",
       "100  1.830240  1.150862\n",
       "101 -0.048248 -1.592608\n",
       "102 -0.614654  0.787705\n",
       "103  0.602816  1.737902\n",
       "104 -0.467786 -0.859816\n",
       "..        ...       ...\n",
       "495  0.766202 -0.562597\n",
       "496  0.787944 -0.976230\n",
       "497  0.789858 -1.632839\n",
       "498 -0.891867  0.125600\n",
       "499  0.749565 -0.945087\n",
       "\n",
       "[400 rows x 2 columns]"
      ]
     },
     "execution_count": 3,
     "metadata": {},
     "output_type": "execute_result"
    }
   ],
   "source": [
    "df2 = df1.iloc[100:500]\n",
    "df2"
   ]
  },
  {
   "cell_type": "markdown",
   "metadata": {},
   "source": [
    "## Look at Cov between col a and col b from df1 and df2"
   ]
  },
  {
   "cell_type": "code",
   "execution_count": 4,
   "metadata": {},
   "outputs": [
    {
     "data": {
      "text/plain": [
       "100   -0.032550\n",
       "101   -0.038989\n",
       "102   -0.043377\n",
       "103   -0.030175\n",
       "104   -0.052097\n",
       "         ...   \n",
       "495    0.012813\n",
       "496    0.008416\n",
       "497   -0.003164\n",
       "498   -0.006308\n",
       "499   -0.010771\n",
       "Length: 400, dtype: float64"
      ]
     },
     "execution_count": 4,
     "metadata": {},
     "output_type": "execute_result"
    }
   ],
   "source": [
    "rst1 = df1.a.rolling(100).cov(df1.b)\n",
    "rst1.iloc[100:500]"
   ]
  },
  {
   "cell_type": "code",
   "execution_count": 5,
   "metadata": {
    "scrolled": true
   },
   "outputs": [
    {
     "data": {
      "text/plain": [
       "100         NaN\n",
       "101         NaN\n",
       "102         NaN\n",
       "103         NaN\n",
       "104         NaN\n",
       "         ...   \n",
       "495    0.012813\n",
       "496    0.008416\n",
       "497   -0.003164\n",
       "498   -0.006308\n",
       "499   -0.010771\n",
       "Length: 400, dtype: float64"
      ]
     },
     "execution_count": 5,
     "metadata": {},
     "output_type": "execute_result"
    }
   ],
   "source": [
    "rst2 = df2.a.rolling(100).cov(df2.b)\n",
    "rst2"
   ]
  },
  {
   "cell_type": "markdown",
   "metadata": {},
   "source": [
    "## There's a difference."
   ]
  },
  {
   "cell_type": "code",
   "execution_count": 6,
   "metadata": {},
   "outputs": [
    {
     "data": {
      "text/plain": [
       "100             NaN\n",
       "101             NaN\n",
       "102             NaN\n",
       "103             NaN\n",
       "104             NaN\n",
       "           ...     \n",
       "495    1.040834e-17\n",
       "496    1.214306e-17\n",
       "497    1.431147e-17\n",
       "498    1.387779e-17\n",
       "499    1.040834e-17\n",
       "Length: 400, dtype: float64"
      ]
     },
     "execution_count": 6,
     "metadata": {},
     "output_type": "execute_result"
    }
   ],
   "source": [
    "rst1.iloc[100:500] - rst2"
   ]
  },
  {
   "cell_type": "code",
   "execution_count": 7,
   "metadata": {},
   "outputs": [
    {
     "data": {
      "text/plain": [
       "5.551115123125783e-17"
      ]
     },
     "execution_count": 7,
     "metadata": {},
     "output_type": "execute_result"
    }
   ],
   "source": [
    "(rst1.iloc[100:500] - rst2).abs().max()"
   ]
  },
  {
   "cell_type": "markdown",
   "metadata": {},
   "source": [
    "## Look at Variance"
   ]
  },
  {
   "cell_type": "code",
   "execution_count": 8,
   "metadata": {},
   "outputs": [
    {
     "data": {
      "text/plain": [
       "100             NaN\n",
       "101             NaN\n",
       "102             NaN\n",
       "103             NaN\n",
       "104             NaN\n",
       "           ...     \n",
       "495    4.440892e-16\n",
       "496    2.220446e-16\n",
       "497    2.220446e-16\n",
       "498    2.220446e-16\n",
       "499    2.220446e-16\n",
       "Name: a, Length: 400, dtype: float64"
      ]
     },
     "execution_count": 8,
     "metadata": {},
     "output_type": "execute_result"
    }
   ],
   "source": [
    "rst3 = df1.a.rolling(100).var()\n",
    "rst4 = df2.a.rolling(100).var()\n",
    "rst3.iloc[100:500] - rst4"
   ]
  },
  {
   "cell_type": "code",
   "execution_count": 9,
   "metadata": {},
   "outputs": [
    {
     "data": {
      "text/plain": [
       "4.440892098500626e-16"
      ]
     },
     "execution_count": 9,
     "metadata": {},
     "output_type": "execute_result"
    }
   ],
   "source": [
    "(rst3.iloc[100:500] - rst4).abs().max()"
   ]
  },
  {
   "cell_type": "markdown",
   "metadata": {},
   "source": [
    "## What if you want to obtain rolling beta=cov(x,y)/var(x)\n",
    "\n",
    "* In below case, abs error is not so big, but it may cause serious problem for certain data."
   ]
  },
  {
   "cell_type": "code",
   "execution_count": 10,
   "metadata": {},
   "outputs": [
    {
     "data": {
      "text/plain": [
       "100             NaN\n",
       "101             NaN\n",
       "102             NaN\n",
       "103             NaN\n",
       "104             NaN\n",
       "           ...     \n",
       "495    3.469447e-18\n",
       "496    9.540979e-18\n",
       "497    1.301043e-17\n",
       "498    1.301043e-17\n",
       "499    1.040834e-17\n",
       "Length: 400, dtype: float64"
      ]
     },
     "execution_count": 10,
     "metadata": {},
     "output_type": "execute_result"
    }
   ],
   "source": [
    "rst5 = df1.a.rolling(100).cov(df1.b) / df1.a.rolling(100).var()\n",
    "rst6 = df2.a.rolling(100).cov(df2.b) / df2.a.rolling(100).var()\n",
    "rst5.iloc[100:500] - rst6"
   ]
  },
  {
   "cell_type": "code",
   "execution_count": 11,
   "metadata": {},
   "outputs": [
    {
     "data": {
      "text/plain": [
       "8.326672684688674e-17"
      ]
     },
     "execution_count": 11,
     "metadata": {},
     "output_type": "execute_result"
    }
   ],
   "source": [
    "(rst5.iloc[100:500] - rst6).abs().max()"
   ]
  },
  {
   "cell_type": "code",
   "execution_count": null,
   "metadata": {},
   "outputs": [],
   "source": []
  }
 ],
 "metadata": {
  "kernelspec": {
   "display_name": "Python 3",
   "language": "python",
   "name": "python3"
  },
  "language_info": {
   "codemirror_mode": {
    "name": "ipython",
    "version": 3
   },
   "file_extension": ".py",
   "mimetype": "text/x-python",
   "name": "python",
   "nbconvert_exporter": "python",
   "pygments_lexer": "ipython3",
   "version": "3.8.3"
  }
 },
 "nbformat": 4,
 "nbformat_minor": 4
}
